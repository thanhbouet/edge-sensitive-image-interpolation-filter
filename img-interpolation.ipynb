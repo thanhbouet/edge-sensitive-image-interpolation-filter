{
  "metadata": {
    "language_info": {
      "codemirror_mode": {
        "name": "python",
        "version": 3
      },
      "file_extension": ".py",
      "mimetype": "text/x-python",
      "name": "python",
      "nbconvert_exporter": "python",
      "pygments_lexer": "ipython3",
      "version": "3.8"
    },
    "kernelspec": {
      "name": "python",
      "display_name": "Python (Pyodide)",
      "language": "python"
    }
  },
  "nbformat_minor": 4,
  "nbformat": 4,
  "cells": [
    {
      "cell_type": "markdown",
      "source": "Lib for proccessing.",
      "metadata": {}
    },
    {
      "cell_type": "code",
      "source": "import numpy as np\nimport cv2\nimport math",
      "metadata": {},
      "execution_count": null,
      "outputs": []
    },
    {
      "cell_type": "markdown",
      "source": "Lib for UI (Using Tkinter to build an interface)",
      "metadata": {}
    },
    {
      "cell_type": "code",
      "source": "python -m pip install tkinter",
      "metadata": {},
      "execution_count": null,
      "outputs": []
    },
    {
      "cell_type": "code",
      "source": "import tkinter as tk\nfrom tkinter import *\nimport tkinter.filedialog\nfrom PIL import Image, ImageTk",
      "metadata": {},
      "execution_count": null,
      "outputs": []
    },
    {
      "cell_type": "markdown",
      "source": "Decicate an image (double it's size by add an empty pixel around each root pixel) ",
      "metadata": {}
    },
    {
      "cell_type": "code",
      "source": "def decmication(img):\n    col, rows, ch = img.shape\n    dcol = col * 2\n    drows = rows * 2\n\n    matriximage = np.zeros((dcol, drows, 3))\n\n    for column in range(dcol):\n        for row in range(drows):\n            if column % 2 == 0 and row % 2 == 0:\n                x = img[int(column / 2), int(row / 2)]\n                matriximage[column, row] += x\n\n    return matriximage",
      "metadata": {},
      "execution_count": null,
      "outputs": []
    },
    {
      "cell_type": "code",
      "source": "zero_array = [0, 0, 0]\n\nk = 1\n\nglobal dstPath\n\ndstPath = r'C:\\Users\\ADMIN\\Desktop\\anh2022\\filter_result.png'",
      "metadata": {},
      "execution_count": null,
      "outputs": []
    },
    {
      "cell_type": "markdown",
      "source": "Check 3 point in a rows (column) if they're empty pixels [0,0,0].",
      "metadata": {}
    },
    {
      "cell_type": "code",
      "source": "def checkVerticalZero(col, row, img):\n    return (img[col, row] == zero_array).all() and (img[col, row - 1] == zero_array).all() and (\n            img[col, row + 1] == zero_array).all()\n\n\ndef checkHorizontalZero(col, row, img):\n    return (img[col, row] == zero_array).all() and (img[col - 1, row] == zero_array).all() and (\n            img[col + 1, row] == zero_array).all()\n",
      "metadata": {},
      "execution_count": null,
      "outputs": []
    },
    {
      "cell_type": "markdown",
      "source": "Define U-value by equation in document",
      "metadata": {}
    },
    {
      "cell_type": "code",
      "source": "def calculateU(a, b, c, d):\n    numerator = k * (c - d) ** 2 + 1\n    denominator = k * ((a - b) ** 2 + (c - d) ** 2) + 2\n\n    return numerator / denominator",
      "metadata": {},
      "execution_count": null,
      "outputs": []
    },
    {
      "cell_type": "markdown",
      "source": "Fill the empty pixels by vertical and horizontal",
      "metadata": {}
    },
    {
      "cell_type": "code",
      "source": "def verticalMask(col, row, img):\n    pixel = [0, 0, 0]\n\n    a_pixel = img[col, row - 3]\n    b_pixel = img[col, row - 1]\n    c_pixel = img[col, row + 1]\n    d_pixel = img[col, row + 3]\n\n    u_red = calculateU(a_pixel[0], b_pixel[0], c_pixel[0], d_pixel[0])\n    u_green = calculateU(a_pixel[1], b_pixel[1], c_pixel[1], d_pixel[1])\n    u_blue = calculateU(a_pixel[2], b_pixel[2], c_pixel[2], d_pixel[2])\n\n    pixel[0] += int(u_red * b_pixel[0] + (1 - u_red) * c_pixel[0])\n    pixel[1] += int(u_green * b_pixel[1] + (1 - u_green) * c_pixel[1])\n    pixel[2] += int(u_blue * b_pixel[2] + (1 - u_blue) * c_pixel[2])\n\n    return pixel\n\n\ndef horizontalMask(col, row, img):\n    pixel = [0, 0, 0]\n\n    a_pixel = img[col - 3, row]\n    b_pixel = img[col - 1, row]\n    c_pixel = img[col + 1, row]\n    d_pixel = img[col + 3, row]\n\n    u_red = calculateU(a_pixel[0], b_pixel[0], c_pixel[0], d_pixel[0])\n    u_green = calculateU(a_pixel[1], b_pixel[1], c_pixel[1], d_pixel[1])\n    u_blue = calculateU(a_pixel[2], b_pixel[2], c_pixel[2], d_pixel[2])\n\n    pixel[0] += int(u_red * b_pixel[0] + (1 - u_red) * c_pixel[0])\n    pixel[1] += int(u_green * b_pixel[1] + (1 - u_green) * c_pixel[1])\n    pixel[2] += int(u_blue * b_pixel[2] + (1 - u_blue) * c_pixel[2])\n\n    return pixel",
      "metadata": {},
      "execution_count": null,
      "outputs": []
    },
    {
      "cell_type": "markdown",
      "source": "Filtering a whole image",
      "metadata": {}
    },
    {
      "cell_type": "code",
      "source": "def process(img):\n    col, rows, ch = img.shape\n    result = np.zeros((col, rows, ch))\n\n    for column in range(3, col - 3):\n        for row in range(3, rows - 3):\n            if (img[column, row] == zero_array).all():\n                if checkVerticalZero(column, row, img) and not checkHorizontalZero(column, row, img):\n                    result[column, row] += horizontalMask(column, row, img)\n                elif (not checkVerticalZero(column, row, img)) and checkHorizontalZero(column, row, img):\n                    result[column, row] += verticalMask(column, row, img)\n            else:\n                result[column, row] += img[column, row]\n    for column in range(3, col - 3):\n        for row in range(3, rows - 3):\n            if checkVerticalZero(column, row, img) and checkHorizontalZero(column, row, img):\n                result[column, row] += (result[column - 1, row - 1] + result[column - 1, row] + result[\n                    column - 1, row + 1] + result[column, row - 1] + result[column, row + 1] + result[\n                                            column + 1, row - 1] + result[column + 1, row] + result[\n                                            column + 1, row + 1]) * (1 / 8)\n\n    for column in range(col - 1):\n        for row in range(rows - 1):\n            result[column, row, 0] = math.floor(result[column, row, 0])\n            result[column, row, 1] = math.floor(result[column, row, 1])\n            result[column, row, 2] = math.floor(result[column, row, 2])\n    return result",
      "metadata": {},
      "execution_count": null,
      "outputs": []
    },
    {
      "cell_type": "markdown",
      "source": "For User Interface (Upload file and start processing when click button)",
      "metadata": {}
    }
  ]
}